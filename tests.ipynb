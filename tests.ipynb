{
 "cells": [
  {
   "cell_type": "markdown",
   "metadata": {},
   "source": [
    "# Implemento una nuova classe di funzioni polinomiali\n",
    "Vogliamo polinomi in $\\mathbb{R}[\\text{sen}x, \\text{cos}x, \\text{sen}y, \\text{cos}y]$. Ho pensato di implementarli come una lista di componenti omogenee che alla sua volta sono una lista di monomi $r\\text{sen}^ax\\text{cos}^bx, \\text{sen}^cy, \\text{cos}^dy$, quindi di oggetti $(r,a,b,c,d)$ con $a+b+c+d = k$ il grado della componente omogenea."
   ]
  },
  {
   "cell_type": "code",
   "execution_count": 3,
   "metadata": {},
   "outputs": [
    {
     "name": "stdout",
     "output_type": "stream",
     "text": [
      "<myPolynomial.myPolynomial object at 0x000001CAA0797B80>\n"
     ]
    },
    {
     "ename": "AttributeError",
     "evalue": "'Monomial' object has no attribute 'd'",
     "output_type": "error",
     "traceback": [
      "\u001b[1;31m---------------------------------------------------------------------------\u001b[0m",
      "\u001b[1;31mAttributeError\u001b[0m                            Traceback (most recent call last)",
      "Cell \u001b[1;32mIn [3], line 19\u001b[0m\n\u001b[0;32m     16\u001b[0m polinomio \u001b[39m=\u001b[39m myPolynomial(dic)\n\u001b[0;32m     17\u001b[0m \u001b[39mprint\u001b[39m(polinomio)\n\u001b[1;32m---> 19\u001b[0m \u001b[39mprint\u001b[39m(polinomio\u001b[39m.\u001b[39;49meval(\u001b[39m1\u001b[39;49m,\u001b[39m0\u001b[39;49m))\n",
      "File \u001b[1;32mc:\\Programacion\\Python\\pershom\\myPolynomial.py:97\u001b[0m, in \u001b[0;36mmyPolynomial.eval\u001b[1;34m(self, x, y)\u001b[0m\n\u001b[0;32m     95\u001b[0m value \u001b[39m=\u001b[39m \u001b[39m0\u001b[39m\n\u001b[0;32m     96\u001b[0m \u001b[39mfor\u001b[39;00m k \u001b[39min\u001b[39;00m \u001b[39mself\u001b[39m\u001b[39m.\u001b[39mcomps\u001b[39m.\u001b[39mkeys():\n\u001b[1;32m---> 97\u001b[0m     value \u001b[39m+\u001b[39m\u001b[39m=\u001b[39m \u001b[39mself\u001b[39;49m\u001b[39m.\u001b[39;49mcomps[k]\u001b[39m.\u001b[39;49meval(x,y)\n\u001b[0;32m     98\u001b[0m \u001b[39mreturn\u001b[39;00m value\n",
      "File \u001b[1;32mc:\\Programacion\\Python\\pershom\\myPolynomial.py:65\u001b[0m, in \u001b[0;36mHomogComp.eval\u001b[1;34m(self, x, y)\u001b[0m\n\u001b[0;32m     63\u001b[0m value \u001b[39m=\u001b[39m \u001b[39m0\u001b[39m\n\u001b[0;32m     64\u001b[0m \u001b[39mfor\u001b[39;00m m \u001b[39min\u001b[39;00m \u001b[39mself\u001b[39m\u001b[39m.\u001b[39mmonomials:\n\u001b[1;32m---> 65\u001b[0m     value \u001b[39m+\u001b[39m\u001b[39m=\u001b[39m m\u001b[39m.\u001b[39;49meval(x,y)\n\u001b[0;32m     66\u001b[0m \u001b[39mreturn\u001b[39;00m value\n",
      "File \u001b[1;32mc:\\Programacion\\Python\\pershom\\myPolynomial.py:33\u001b[0m, in \u001b[0;36mMonomial.eval\u001b[1;34m(self, x, y)\u001b[0m\n\u001b[0;32m     32\u001b[0m \u001b[39mdef\u001b[39;00m \u001b[39meval\u001b[39m(\u001b[39mself\u001b[39m,x,y):\n\u001b[1;32m---> 33\u001b[0m     \u001b[39mreturn\u001b[39;00m \u001b[39mself\u001b[39m\u001b[39m.\u001b[39mr\u001b[39m*\u001b[39m(np\u001b[39m.\u001b[39msin(x)\u001b[39m*\u001b[39m\u001b[39m*\u001b[39m\u001b[39mself\u001b[39m\u001b[39m.\u001b[39ma)\u001b[39m*\u001b[39m(np\u001b[39m.\u001b[39mcos(x)\u001b[39m*\u001b[39m\u001b[39m*\u001b[39m\u001b[39mself\u001b[39m\u001b[39m.\u001b[39mb)\u001b[39m*\u001b[39m(np\u001b[39m.\u001b[39msin(y)\u001b[39m*\u001b[39m\u001b[39m*\u001b[39m\u001b[39mself\u001b[39m\u001b[39m.\u001b[39mc)\u001b[39m*\u001b[39m(np\u001b[39m.\u001b[39mcos(y)\u001b[39m*\u001b[39m\u001b[39m*\u001b[39m\u001b[39mself\u001b[39;49m\u001b[39m.\u001b[39;49md)\n",
      "\u001b[1;31mAttributeError\u001b[0m: 'Monomial' object has no attribute 'd'"
     ]
    }
   ],
   "source": [
    "from myPolynomial import *\n",
    "\n",
    "#testing myPolynomial\n",
    "#prima mi creo un polinomio \"artificialmente\" (più avanti vorrei prendere input del utente)\n",
    "\n",
    "#Monomi e comp omogenee di diversi gradi\n",
    "monomio0 = Monomial(7,0,0,0,0)\n",
    "h0 = HomogComp([monomio0])\n",
    "monomio11 = Monomial(1,0,1,0,0)\n",
    "monomio12 = Monomial(1,0,0,0,1)\n",
    "h1 = HomogComp([monomio11, monomio12])\n",
    "monomio3 = Monomial(1,1,0,2,0)\n",
    "h3 = HomogComp([monomio3])\n",
    "\n",
    "dic = {0:h0, 1:h1, 3:h3}\n",
    "polinomio = myPolynomial(dic)\n",
    "print(polinomio)\n",
    "\n",
    "print(polinomio.eval(1,0))"
   ]
  },
  {
   "cell_type": "code",
   "execution_count": null,
   "metadata": {},
   "outputs": [
    {
     "name": "stdout",
     "output_type": "stream",
     "text": [
      "test\n"
     ]
    }
   ],
   "source": [
    "msg = 'test'\n",
    "print(msg)"
   ]
  }
 ],
 "metadata": {
  "kernelspec": {
   "display_name": "Python 3.10.6 64-bit",
   "language": "python",
   "name": "python3"
  },
  "language_info": {
   "codemirror_mode": {
    "name": "ipython",
    "version": 3
   },
   "file_extension": ".py",
   "mimetype": "text/x-python",
   "name": "python",
   "nbconvert_exporter": "python",
   "pygments_lexer": "ipython3",
   "version": "3.10.6 (tags/v3.10.6:9c7b4bd, Aug  1 2022, 21:53:49) [MSC v.1932 64 bit (AMD64)]"
  },
  "orig_nbformat": 4,
  "vscode": {
   "interpreter": {
    "hash": "df95319d8ce4e1d89f5365ae10992bc1f65da593082b1d264e8f529830ec2f02"
   }
  }
 },
 "nbformat": 4,
 "nbformat_minor": 2
}
