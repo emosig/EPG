{
 "cells": [
  {
   "cell_type": "markdown",
   "metadata": {},
   "source": [
    "# Calcolo delle extended pareto grid\n",
    "Lavoriamo sul toro piatto $T=[0,2\\pi]\\times[0,2\\pi]/(x,0)=(x,2\\pi),(0,y)=(2\\pi,y)$ con funzioni a valori in $\\mathbb{R}^2$ polinomiali periodiche, ovvero in seno e costeno, per esempio del tipo $(f_1(x,y),f_2(x,y))=(a\\ cos(x)^2+b\\ cos(y),c\\ sin(x)^3+d\\ sin(y)^2)$."
   ]
  },
  {
   "cell_type": "code",
   "execution_count": 8,
   "metadata": {},
   "outputs": [],
   "source": [
    "import matplotlib.pyplot as plt\n",
    "import numpy as np\n",
    "import scipy as scipy\n",
    "from scipy import optimize\n",
    "import numdifftools as nd"
   ]
  },
  {
   "cell_type": "code",
   "execution_count": 9,
   "metadata": {},
   "outputs": [],
   "source": [
    "#------copio dal main------\n",
    "class Torus:\n",
    "\n",
    "    #CONSTRUCTOR\n",
    "    def __init__(self, precision):\n",
    "        #il più grande sia il valore di precision più punti del toro considero\n",
    "        self.precision = precision\n",
    "        eps = 1/precision\n",
    "\n",
    "        #Questo salva un array di coordinate x e un array di coordinate y di punti del toro\n",
    "        #creo una griglia di punti: perche'?\n",
    "        self.point_coords = np.mgrid[0:1:eps, 0:1:eps]\n",
    "\n",
    "    #GETTERS\n",
    "    def get_point_coords(self):\n",
    "        return self.point_coords\n"
   ]
  },
  {
   "cell_type": "code",
   "execution_count": 10,
   "metadata": {},
   "outputs": [],
   "source": [
    "#faccio un esempio con la funzione a*np.cos(x)**2+b*np.cos(y),c*np.sin(x)**3-d*np.sin(y)**2\n",
    "def f_1(x):\n",
    "    return (2*np.cos(x[0])**2+4*np.cos(x[1]),0)\n",
    "\n",
    "def f_2(x):\n",
    "    return 1*np.sin(x[0])**3+3*np.sin(x[1])**2\n",
    "\n",
    "def f(x,a,b,c,d):\n",
    "    return (a*np.cos(x[0])**2+b*np.cos(x[1]),c*np.sin(x[0])**3+d*np.sin(x[1])**2)"
   ]
  },
  {
   "cell_type": "markdown",
   "metadata": {},
   "source": [
    "Adesso l'idea è provare a calcolare i gradienti e dove si annullano usando delle belle funzioncine pronte, ma ho dei problemi perchè non funzionano.\n",
    "successivamente usando questi risultati voglio vedere come vengono fuori le \"pre-EPG\" per questa specifica classe di funzioni.\n",
    "Fatto ciò poi vorrei vedere:\n",
    "\n",
    "    -come manipolare in modo sensato la nube di punti della pre-EPG in modo da fare una EPG abbastanza fedele: il fato è che usare i metodi di interpolazione potrebbe non avere senso a livello teorico per il risultato che vogliamo ottenere\n",
    "\n",
    "    -provare a vedere se per la nostra classe di fuzioni viene meglio se facciamo noi una funzione che calcola il gradiente e una che trova gli zeri (secondo me il calcolo del gradiente fatto da noi ha senso perchè la funzione è molto particolare, quello degli zeri no)\n",
    "    \n",
    "    -se riusciamo a estendere la classe di funzioni ammissibili\n",
    "\n",
    "Utilizzo per calcolare gli zeri di funzioni delle funzioni dalla libreria scipy: consultare la [documentazione](https://docs.scipy.org/doc/scipy/reference/optimize.html#id2)."
   ]
  },
  {
   "cell_type": "markdown",
   "metadata": {},
   "source": [
    "Provo a lavorare su un $\\epsilon$-net del toro, perchè le funzioni che volevo usare sopra mi trovano solo una radice.\n",
    "    \n",
    "    -costruisco la $\\epsilon$-net del toro\n",
    "\n",
    "    -spero ci siano dei punti vicini ad essere critici"
   ]
  },
  {
   "cell_type": "code",
   "execution_count": 11,
   "metadata": {},
   "outputs": [],
   "source": [
    "#griglia sul toro\n",
    "\n",
    "eps=2*np.pi/10\n",
    "x=[]\n",
    "for i in np.arange(0,2*np.pi+eps,eps):\n",
    "    for j in np.arange(0,2*np.pi+eps,eps):\n",
    "        x.append((i,j))\n",
    "l=len(x)\n",
    "# plt.scatter(x,y) ora non so come plottarlo, vabbè non importa era una prova grafica"
   ]
  },
  {
   "cell_type": "code",
   "execution_count": 12,
   "metadata": {},
   "outputs": [
    {
     "ename": "TypeError",
     "evalue": "unsupported operand type(s) for -: 'tuple' and 'tuple'",
     "output_type": "error",
     "traceback": [
      "\u001b[1;31m---------------------------------------------------------------------------\u001b[0m",
      "\u001b[1;31mTypeError\u001b[0m                                 Traceback (most recent call last)",
      "Cell \u001b[1;32mIn [12], line 6\u001b[0m\n\u001b[0;32m      4\u001b[0m \u001b[39m#voglio provare a calcolarli nei lunti della griglia, ma non funziona\u001b[39;00m\n\u001b[0;32m      5\u001b[0m \u001b[39mfor\u001b[39;00m i \u001b[39min\u001b[39;00m \u001b[39mrange\u001b[39m (\u001b[39m0\u001b[39m,l\u001b[39m+\u001b[39m\u001b[39m1\u001b[39m,\u001b[39m1\u001b[39m):\n\u001b[1;32m----> 6\u001b[0m      \u001b[39mprint\u001b[39m(gr1(x[i]))\n",
      "File \u001b[1;32mc:\\Users\\ragog\\Desktop\\GRAZIA\\TIROCINIO\\venv_tirocinio\\lib\\site-packages\\numdifftools\\core.py:490\u001b[0m, in \u001b[0;36mGradient.__call__\u001b[1;34m(self, x, *args, **kwds)\u001b[0m\n\u001b[0;32m    489\u001b[0m \u001b[39mdef\u001b[39;00m \u001b[39m__call__\u001b[39m(\u001b[39mself\u001b[39m, x, \u001b[39m*\u001b[39margs, \u001b[39m*\u001b[39m\u001b[39m*\u001b[39mkwds):\n\u001b[1;32m--> 490\u001b[0m     result \u001b[39m=\u001b[39m \u001b[39msuper\u001b[39;49m(Gradient, \u001b[39mself\u001b[39;49m)\u001b[39m.\u001b[39;49m\u001b[39m__call__\u001b[39;49m(np\u001b[39m.\u001b[39;49matleast_1d(x)\u001b[39m.\u001b[39;49mravel(), \u001b[39m*\u001b[39;49margs, \u001b[39m*\u001b[39;49m\u001b[39m*\u001b[39;49mkwds)\n\u001b[0;32m    491\u001b[0m     \u001b[39mif\u001b[39;00m \u001b[39mself\u001b[39m\u001b[39m.\u001b[39mfull_output:\n\u001b[0;32m    492\u001b[0m         \u001b[39mreturn\u001b[39;00m result[\u001b[39m0\u001b[39m]\u001b[39m.\u001b[39msqueeze(), result[\u001b[39m1\u001b[39m]\n",
      "File \u001b[1;32mc:\\Users\\ragog\\Desktop\\GRAZIA\\TIROCINIO\\venv_tirocinio\\lib\\site-packages\\numdifftools\\core.py:431\u001b[0m, in \u001b[0;36mJacobian.__call__\u001b[1;34m(self, x, *args, **kwds)\u001b[0m\n\u001b[0;32m    430\u001b[0m \u001b[39mdef\u001b[39;00m \u001b[39m__call__\u001b[39m(\u001b[39mself\u001b[39m, x, \u001b[39m*\u001b[39margs, \u001b[39m*\u001b[39m\u001b[39m*\u001b[39mkwds):\n\u001b[1;32m--> 431\u001b[0m     \u001b[39mreturn\u001b[39;00m \u001b[39msuper\u001b[39;49m(Jacobian, \u001b[39mself\u001b[39;49m)\u001b[39m.\u001b[39;49m\u001b[39m__call__\u001b[39;49m(np\u001b[39m.\u001b[39;49matleast_1d(x), \u001b[39m*\u001b[39;49margs, \u001b[39m*\u001b[39;49m\u001b[39m*\u001b[39;49mkwds)\n",
      "File \u001b[1;32mc:\\Users\\ragog\\Desktop\\GRAZIA\\TIROCINIO\\venv_tirocinio\\lib\\site-packages\\numdifftools\\core.py:288\u001b[0m, in \u001b[0;36mDerivative.__call__\u001b[1;34m(self, x, *args, **kwds)\u001b[0m\n\u001b[0;32m    286\u001b[0m x_i \u001b[39m=\u001b[39m np\u001b[39m.\u001b[39masarray(x)\n\u001b[0;32m    287\u001b[0m \u001b[39mwith\u001b[39;00m np\u001b[39m.\u001b[39merrstate(divide\u001b[39m=\u001b[39m\u001b[39m'\u001b[39m\u001b[39mignore\u001b[39m\u001b[39m'\u001b[39m, invalid\u001b[39m=\u001b[39m\u001b[39m'\u001b[39m\u001b[39mignore\u001b[39m\u001b[39m'\u001b[39m):\n\u001b[1;32m--> 288\u001b[0m     results, f_xi \u001b[39m=\u001b[39m \u001b[39mself\u001b[39;49m\u001b[39m.\u001b[39;49m_derivative(x_i, args, kwds)\n\u001b[0;32m    289\u001b[0m     derivative, info \u001b[39m=\u001b[39m \u001b[39mself\u001b[39m\u001b[39m.\u001b[39m_extrapolate(\u001b[39m*\u001b[39mresults)\n\u001b[0;32m    290\u001b[0m \u001b[39mif\u001b[39;00m \u001b[39mself\u001b[39m\u001b[39m.\u001b[39mfull_output:\n",
      "File \u001b[1;32mc:\\Users\\ragog\\Desktop\\GRAZIA\\TIROCINIO\\venv_tirocinio\\lib\\site-packages\\numdifftools\\core.py:423\u001b[0m, in \u001b[0;36mJacobian._derivative_nonzero_order\u001b[1;34m(self, x_i, args, kwds)\u001b[0m\n\u001b[0;32m    421\u001b[0m steps, step_ratio \u001b[39m=\u001b[39m \u001b[39mself\u001b[39m\u001b[39m.\u001b[39m_get_steps(x_i)\n\u001b[0;32m    422\u001b[0m fxi \u001b[39m=\u001b[39m f(x_i)\n\u001b[1;32m--> 423\u001b[0m results \u001b[39m=\u001b[39m [diff(f, fxi, x_i, h) \u001b[39mfor\u001b[39;00m h \u001b[39min\u001b[39;00m steps]\n\u001b[0;32m    425\u001b[0m steps2 \u001b[39m=\u001b[39m \u001b[39mself\u001b[39m\u001b[39m.\u001b[39m_expand_steps(steps, x_i, fxi)\n\u001b[0;32m    427\u001b[0m \u001b[39mself\u001b[39m\u001b[39m.\u001b[39mset_richardson_rule(step_ratio, \u001b[39mself\u001b[39m\u001b[39m.\u001b[39mrichardson_terms)\n",
      "File \u001b[1;32mc:\\Users\\ragog\\Desktop\\GRAZIA\\TIROCINIO\\venv_tirocinio\\lib\\site-packages\\numdifftools\\core.py:423\u001b[0m, in \u001b[0;36m<listcomp>\u001b[1;34m(.0)\u001b[0m\n\u001b[0;32m    421\u001b[0m steps, step_ratio \u001b[39m=\u001b[39m \u001b[39mself\u001b[39m\u001b[39m.\u001b[39m_get_steps(x_i)\n\u001b[0;32m    422\u001b[0m fxi \u001b[39m=\u001b[39m f(x_i)\n\u001b[1;32m--> 423\u001b[0m results \u001b[39m=\u001b[39m [diff(f, fxi, x_i, h) \u001b[39mfor\u001b[39;00m h \u001b[39min\u001b[39;00m steps]\n\u001b[0;32m    425\u001b[0m steps2 \u001b[39m=\u001b[39m \u001b[39mself\u001b[39m\u001b[39m.\u001b[39m_expand_steps(steps, x_i, fxi)\n\u001b[0;32m    427\u001b[0m \u001b[39mself\u001b[39m\u001b[39m.\u001b[39mset_richardson_rule(step_ratio, \u001b[39mself\u001b[39m\u001b[39m.\u001b[39mrichardson_terms)\n",
      "File \u001b[1;32mc:\\Users\\ragog\\Desktop\\GRAZIA\\TIROCINIO\\venv_tirocinio\\lib\\site-packages\\numdifftools\\finite_difference.py:122\u001b[0m, in \u001b[0;36mJacobianDifferenceFunctions._central\u001b[1;34m(f, f_x, x, h)\u001b[0m\n\u001b[0;32m    120\u001b[0m n \u001b[39m=\u001b[39m \u001b[39mlen\u001b[39m(x)\n\u001b[0;32m    121\u001b[0m steps \u001b[39m=\u001b[39m JacobianDifferenceFunctions\u001b[39m.\u001b[39mincrements(n, h)\n\u001b[1;32m--> 122\u001b[0m \u001b[39mreturn\u001b[39;00m np\u001b[39m.\u001b[39marray([(f(x \u001b[39m+\u001b[39m hi) \u001b[39m-\u001b[39m f(x \u001b[39m-\u001b[39m hi)) \u001b[39m/\u001b[39m \u001b[39m2.0\u001b[39m \u001b[39mfor\u001b[39;00m hi \u001b[39min\u001b[39;00m steps])\n",
      "File \u001b[1;32mc:\\Users\\ragog\\Desktop\\GRAZIA\\TIROCINIO\\venv_tirocinio\\lib\\site-packages\\numdifftools\\finite_difference.py:122\u001b[0m, in \u001b[0;36m<listcomp>\u001b[1;34m(.0)\u001b[0m\n\u001b[0;32m    120\u001b[0m n \u001b[39m=\u001b[39m \u001b[39mlen\u001b[39m(x)\n\u001b[0;32m    121\u001b[0m steps \u001b[39m=\u001b[39m JacobianDifferenceFunctions\u001b[39m.\u001b[39mincrements(n, h)\n\u001b[1;32m--> 122\u001b[0m \u001b[39mreturn\u001b[39;00m np\u001b[39m.\u001b[39marray([(f(x \u001b[39m+\u001b[39;49m hi) \u001b[39m-\u001b[39;49m f(x \u001b[39m-\u001b[39;49m hi)) \u001b[39m/\u001b[39m \u001b[39m2.0\u001b[39m \u001b[39mfor\u001b[39;00m hi \u001b[39min\u001b[39;00m steps])\n",
      "\u001b[1;31mTypeError\u001b[0m: unsupported operand type(s) for -: 'tuple' and 'tuple'"
     ]
    }
   ],
   "source": [
    "#provo a calcolare i gradienti con la libreria\n",
    "gr1=nd.Gradient(f_1)\n",
    "gr2=nd.Gradient(f_2)\n",
    "#voglio provare a calcolarli nei lunti della griglia, ma non funziona\n",
    "for i in range (0,l+1,1):\n",
    "     print(gr1(x[i]))"
   ]
  },
  {
   "cell_type": "code",
   "execution_count": null,
   "metadata": {},
   "outputs": [],
   "source": [
    "#calcolo dei punti critici\n",
    "#trovo i punti critici, so di per certo che questi sono endpoints of the arcs of the EPG\n",
    "#faccio il conto degli zeri di f per vedere se punziona\n",
    "# x=scipy.optimize.fsolve(f_1,(np.pi,0),(1,1))\n",
    "# print(f_1({x}))"
   ]
  }
 ],
 "metadata": {
  "kernelspec": {
   "display_name": "venv_tirocinio",
   "language": "python",
   "name": "python3"
  },
  "language_info": {
   "codemirror_mode": {
    "name": "ipython",
    "version": 3
   },
   "file_extension": ".py",
   "mimetype": "text/x-python",
   "name": "python",
   "nbconvert_exporter": "python",
   "pygments_lexer": "ipython3",
   "version": "3.8.10"
  },
  "orig_nbformat": 4,
  "vscode": {
   "interpreter": {
    "hash": "931821c3759b5b4e2325920ad0181fdfb4f884b26501235884153f0810743630"
   }
  }
 },
 "nbformat": 4,
 "nbformat_minor": 2
}
