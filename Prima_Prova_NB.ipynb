{
 "cells": [
  {
   "cell_type": "markdown",
   "metadata": {},
   "source": [
    "# Calcolo delle extended pareto grid\n",
    "Lavoriamo sul toro piatto $T=[0,2\\pi]\\times[0,2\\pi]/(x,0)=(x,2\\pi),(0,y)=(2\\pi,y)$ con funzioni a valori in $\\mathbb{R}^2$ polinomiali periodiche, ovvero in seno e costeno, per esempio del tipo $(f_1(x,y),f_2(x,y))=(a\\ cos(x)^2+b\\ cos(y),c\\ sin(x)^3+d\\ sin(y)^2)$."
   ]
  },
  {
   "cell_type": "code",
   "execution_count": 25,
   "metadata": {},
   "outputs": [],
   "source": [
    "import matplotlib.pyplot as plt\n",
    "import numpy as np\n",
    "import scipy as scipy\n",
    "from scipy import optimize\n",
    "#import numdifftools as nd"
   ]
  },
  {
   "cell_type": "code",
   "execution_count": 26,
   "metadata": {},
   "outputs": [],
   "source": [
    "#------copio dal main------\n",
    "class Torus:\n",
    "\n",
    "    #CONSTRUCTOR\n",
    "    def __init__(self, precision):\n",
    "        #il più grande sia il valore di precision più punti del toro considero\n",
    "        self.precision = precision\n",
    "        eps = 1/precision\n",
    "\n",
    "        #Questo salva un array di coordinate x e un array di coordinate y di punti del toro\n",
    "        #creo una griglia di punti: perche'?\n",
    "        self.point_coords = np.mgrid[0:1:eps, 0:1:eps]\n",
    "\n",
    "    #GETTERS\n",
    "    def get_point_coords(self):\n",
    "        return self.point_coords\n"
   ]
  },
  {
   "cell_type": "code",
   "execution_count": 27,
   "metadata": {},
   "outputs": [],
   "source": [
    "#faccio un esempio con la funzione a*np.cos(x)**2+b*np.cos(y),c*np.sin(x)**3-d*np.sin(y)**2\n",
    "def f_1(x,y,a,b):\n",
    "    return a*np.cos(x)**2+b*np.cos(y)\n",
    "\n",
    "def f_2(x,y,c,d):\n",
    "    return c*np.sin(x)**3-d*np.sin(y)**2"
   ]
  },
  {
   "cell_type": "markdown",
   "metadata": {},
   "source": [
    "Adesso l'idea è provare a calcolare i gradienti e dove si annullano usando delle belle funzioncine pronte, ma ho dei problemi perchè non funzionano.\n",
    "successivamente usando questi risultati voglio vedere come vengono fuori le \"pre-EPG\" per questa specifica classe di funzioni.\n",
    "Fatto ciò poi vorrei vedere:\n",
    "-come manipolare in modo sensato la nube di punti della pre-EPG in modo da fare una EPG abbastanza fedele: il fato è che usare i metodi di interpolazione potrebbe non avere senso a livello teorico per il risultato che vogliamo ottenere\n",
    "-provare a vedere se per la nostra classe di fuzioni viene meglio se facciamo noi una funzione che calcola il gradiente e una che trova gli zeri (secondo me il calcolo del gradiente fatto da noi ha senso perchè la funzione è molto particolare, quello degli zeri no)\n",
    "-se riusciamo a estendere la classe di funzioni ammissibili"
   ]
  },
  {
   "cell_type": "code",
   "execution_count": 28,
   "metadata": {},
   "outputs": [
    {
     "ename": "TypeError",
     "evalue": "f_1() missing 2 required positional arguments: 'a' and 'b'",
     "output_type": "error",
     "traceback": [
      "\u001b[1;31m---------------------------------------------------------------------------\u001b[0m",
      "\u001b[1;31mTypeError\u001b[0m                                 Traceback (most recent call last)",
      "Cell \u001b[1;32mIn [28], line 7\u001b[0m\n\u001b[0;32m      1\u001b[0m \u001b[39m#provo a calcolare i gradienti con la libreria\u001b[39;00m\n\u001b[0;32m      2\u001b[0m \u001b[39m# gr1=nd.Gradient(f_1)\u001b[39;00m\n\u001b[0;32m      3\u001b[0m \u001b[39m# gr2=nd.Gradient(f_2)\u001b[39;00m\n\u001b[0;32m      4\u001b[0m \u001b[39m#trovo i punti critici, so di per certo che questi sono endpoints of the arcs of the EPG\u001b[39;00m\n\u001b[0;32m      5\u001b[0m \n\u001b[0;32m      6\u001b[0m \u001b[39m#faccio il conto degli zeri di f per vedere se punziona\u001b[39;00m\n\u001b[1;32m----> 7\u001b[0m scipy\u001b[39m.\u001b[39moptimize\u001b[39m.\u001b[39mbrentq(f_1(\u001b[39m1\u001b[39;49m,\u001b[39m2\u001b[39;49m), \u001b[39m0\u001b[39m, \u001b[39m2\u001b[39m\u001b[39m*\u001b[39mnp\u001b[39m.\u001b[39mpi, \u001b[39m2e-12\u001b[39m, \u001b[39m8.881784197001252e-16\u001b[39m, \u001b[39m100\u001b[39m, \u001b[39mFalse\u001b[39;00m, \u001b[39mTrue\u001b[39;00m)\n",
      "\u001b[1;31mTypeError\u001b[0m: f_1() missing 2 required positional arguments: 'a' and 'b'"
     ]
    }
   ],
   "source": [
    "#provo a calcolare i gradienti con la libreria\n",
    "# gr1=nd.Gradient(f_1)\n",
    "# gr2=nd.Gradient(f_2)\n",
    "#trovo i punti critici, so di per certo che questi sono endpoints of the arcs of the EPG\n",
    "\n",
    "#faccio il conto degli zeri di f per vedere se punziona\n",
    "scipy.optimize.brentq(f_1(1,2), 0, 2*np.pi, 2e-12, 8.881784197001252e-16, 100, False, True)"
   ]
  }
 ],
 "metadata": {
  "kernelspec": {
   "display_name": "venv_tirocinio",
   "language": "python",
   "name": "python3"
  },
  "language_info": {
   "codemirror_mode": {
    "name": "ipython",
    "version": 3
   },
   "file_extension": ".py",
   "mimetype": "text/x-python",
   "name": "python",
   "nbconvert_exporter": "python",
   "pygments_lexer": "ipython3",
   "version": "3.8.10"
  },
  "orig_nbformat": 4,
  "vscode": {
   "interpreter": {
    "hash": "931821c3759b5b4e2325920ad0181fdfb4f884b26501235884153f0810743630"
   }
  }
 },
 "nbformat": 4,
 "nbformat_minor": 2
}
