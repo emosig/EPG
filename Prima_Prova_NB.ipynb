{
 "cells": [
  {
   "cell_type": "markdown",
   "metadata": {},
   "source": [
    "# Calcolo delle extended pareto grid\n",
    "Lavoriamo sul toro piatto $T=[0,2\\pi]\\times[0,2\\pi]/(x,0)=(x,2\\pi),(0,y)=(2\\pi,y)$ con funzioni a valori in $\\mathbb{R}^2$ polinomiali periodiche, ovvero in seno e costeno, per esempio del tipo $(f_1(x,y),f_2(x,y))=(a\\ cos(x)^2+b\\ cos(y),c\\ sin(x)^3+d\\ sin(y)^2)$."
   ]
  },
  {
   "cell_type": "code",
   "execution_count": 16,
   "metadata": {},
   "outputs": [],
   "source": [
    "import matplotlib.pyplot as plt\n",
    "import numpy as np\n",
    "import scipy as scipy\n",
    "from scipy import optimize\n",
    "import numdifftools as nd"
   ]
  },
  {
   "cell_type": "code",
   "execution_count": 17,
   "metadata": {},
   "outputs": [],
   "source": [
    "#------copio dal main------\n",
    "class Torus:\n",
    "\n",
    "    #CONSTRUCTOR\n",
    "    def __init__(self, precision):\n",
    "        #il più grande sia il valore di precision più punti del toro considero\n",
    "        self.precision = precision\n",
    "        eps = 1/precision\n",
    "\n",
    "        #Questo salva un array di coordinate x e un array di coordinate y di punti del toro\n",
    "        #creo una griglia di punti: perche'?\n",
    "        self.point_coords = np.mgrid[0:1:eps, 0:1:eps]\n",
    "\n",
    "    #GETTERS\n",
    "    def get_point_coords(self):\n",
    "        return self.point_coords\n"
   ]
  },
  {
   "cell_type": "code",
   "execution_count": 18,
   "metadata": {},
   "outputs": [],
   "source": [
    "#faccio un esempio con la funzione a*np.cos(x)**2+b*np.cos(y),c*np.sin(x)**3-d*np.sin(y)**2\n",
    "def f_1(x):\n",
    "    return 2*np.cos(x[0])**2+4*np.cos(x[1])\n",
    "\n",
    "def f_2(x):\n",
    "    return 1*np.sin(x[0])**3+3*np.sin(x[1])**2\n",
    "\n",
    "def f(x,a,b,c,d):\n",
    "    return (a*np.cos(x[0])**2+b*np.cos(x[1]),c*np.sin(x[0])**3+d*np.sin(x[1])**2)"
   ]
  },
  {
   "cell_type": "markdown",
   "metadata": {},
   "source": [
    "Adesso l'idea è provare a calcolare i gradienti e dove si annullano usando delle belle funzioncine pronte, ma ho dei problemi perchè non funzionano.\n",
    "successivamente usando questi risultati voglio vedere come vengono fuori le \"pre-EPG\" per questa specifica classe di funzioni.\n",
    "Fatto ciò poi vorrei vedere:\n",
    "\n",
    "    -come manipolare in modo sensato la nube di punti della pre-EPG in modo da fare una EPG abbastanza fedele: il fato è che usare i metodi di interpolazione potrebbe non avere senso a livello teorico per il risultato che vogliamo ottenere\n",
    "\n",
    "    -provare a vedere se per la nostra classe di fuzioni viene meglio se facciamo noi una funzione che calcola il gradiente e una che trova gli zeri (secondo me il calcolo del gradiente fatto da noi ha senso perchè la funzione è molto particolare, quello degli zeri no)\n",
    "    \n",
    "    -se riusciamo a estendere la classe di funzioni ammissibili\n",
    "\n",
    "Utilizzo per calcolare gli zeri di funzioni delle funzioni dalla libreria scipy: consultare la [documentazione](https://docs.scipy.org/doc/scipy/reference/optimize.html#id2)."
   ]
  },
  {
   "cell_type": "markdown",
   "metadata": {},
   "source": [
    "Provo a lavorare su un $\\epsilon$-net del toro, perchè le funzioni che volevo usare sopra mi trovano solo una radice.\n",
    "    \n",
    "    -costruisco la $\\epsilon$-net del toro\n",
    "\n",
    "    -spero ci siano dei punti vicini ad essere critici"
   ]
  },
  {
   "cell_type": "code",
   "execution_count": 19,
   "metadata": {},
   "outputs": [
    {
     "name": "stdout",
     "output_type": "stream",
     "text": [
      "10201\n"
     ]
    }
   ],
   "source": [
    "#griglia sul toro\n",
    "\n",
    "eps=2*np.pi/100\n",
    "x=[]\n",
    "for i in np.arange(0,2*np.pi+eps,eps):\n",
    "    for j in np.arange(0,2*np.pi+eps,eps):\n",
    "        x.append([i,j])\n",
    "x=np.array(x)\n",
    "l=len(x)\n",
    "print(l) #ok griglia 101*101"
   ]
  },
  {
   "cell_type": "code",
   "execution_count": 20,
   "metadata": {},
   "outputs": [],
   "source": [
    "#provo a calcolare i gradienti con la libreria\n",
    "gr1=nd.Gradient(f_1)\n",
    "gr2=nd.Gradient(f_2)\n",
    "#faccio una stampa per vedere come funziona\n",
    "#for i in range (0,l+1,1):\n",
    "#    print(x[i], gr1(x[i]))\n",
    "#ho fatto un po'di conti e calcola molto bene"
   ]
  },
  {
   "cell_type": "markdown",
   "metadata": {},
   "source": [
    "### Calcolo i punti critici\n",
    "Infatti sappiamo che i valori critici sono gli estremi degli archi della EPG.\n",
    "\n",
    "Per il momento non ammetto tolleranza"
   ]
  },
  {
   "cell_type": "code",
   "execution_count": 21,
   "metadata": {},
   "outputs": [
    {
     "name": "stdout",
     "output_type": "stream",
     "text": [
      "[0. 0.] critico per f_1\n",
      "[0.         3.14159265] critico per f_1\n",
      "[0.         6.28318531] critico per f_1\n",
      "[1.57079633 0.        ] critico per f_1\n",
      "[1.57079633 0.        ] critico per f_2\n",
      "[1.57079633 1.57079633] critico per f_2\n",
      "[1.57079633 3.14159265] critico per f_1\n",
      "[1.57079633 3.14159265] critico per f_2\n",
      "[1.57079633 4.71238898] critico per f_2\n",
      "[1.57079633 6.28318531] critico per f_1\n",
      "[1.57079633 6.28318531] critico per f_2\n",
      "[3.14159265 0.        ] critico per f_1\n",
      "[3.14159265 3.14159265] critico per f_1\n",
      "[3.14159265 6.28318531] critico per f_1\n",
      "[4.71238898 0.        ] critico per f_1\n",
      "[4.71238898 0.        ] critico per f_2\n",
      "[4.71238898 1.57079633] critico per f_2\n",
      "[4.71238898 3.14159265] critico per f_1\n",
      "[4.71238898 3.14159265] critico per f_2\n",
      "[4.71238898 4.71238898] critico per f_2\n",
      "[4.71238898 6.28318531] critico per f_1\n",
      "[4.71238898 6.28318531] critico per f_2\n",
      "[6.28318531 0.        ] critico per f_1\n",
      "[6.28318531 3.14159265] critico per f_1\n",
      "[6.28318531 6.28318531] critico per f_1\n"
     ]
    }
   ],
   "source": [
    "#calcolo dei punti critici di f_1 e f_2 nella griglia\n",
    "cr1=[]  #lista dei punti critici di f_1\n",
    "cr2=[]  #lista dei punti critici di f_2\n",
    "for i in range (0,l,1):\n",
    "    if gr1(x[i])[0]==0 and gr1(x[i])[1]==0:\n",
    "        cr1.append(x[i])\n",
    "        print(x[i],\"critico per f_1\")\n",
    "    if gr2(x[i])[0]==0 and gr2(x[i])[1]==0:\n",
    "        cr2.append(x[i])\n",
    "        print(x[i],\"critico per f_2\")\n",
    "cr1=np.array(cr1)\n",
    "cr2=np.array(cr2)"
   ]
  },
  {
   "cell_type": "code",
   "execution_count": 22,
   "metadata": {},
   "outputs": [
    {
     "data": {
      "text/plain": [
       "<matplotlib.collections.PathCollection at 0x17f676d1dc0>"
      ]
     },
     "execution_count": 22,
     "metadata": {},
     "output_type": "execute_result"
    },
    {
     "data": {
      "image/png": "[encoded data removed]",
      "text/plain": [
       "<Figure size 640x480 with 1 Axes>"
      ]
     },
     "metadata": {},
     "output_type": "display_data"
    }
   ],
   "source": [
    "#faccio un plot dei valori critici per avere un'idea\n",
    "plt.scatter(f_1(cr1),f_2(cr1),color='red')\n",
    "plt.scatter(f_1(cr2),f_2(cr2),color='blue')"
   ]
  },
  {
   "cell_type": "markdown",
   "metadata": {},
   "source": [
    "### Calcolo punti Pareto critici\n",
    "Un punto $(x,y)\\in T$ è detto Pareto Critico se $\\exists \\lambda\\le 0$ t.c. $\\nabla f_1(x,y)=\\lambda\\nabla f_2(x,y)$.\n",
    "\n",
    "Questa condizione equivale a richiedere che: se $\\nabla f_1(x,y)=(a,b),\\ \\nabla f_2(x,y)=(c,d)$, allora $\\frac{a}{c}=\\lambda=\\frac{b}{d}$ dove queste sono ben definite.\n",
    "\n",
    "Pertanto valuto questi rapporti, ammettendo una certa tolleranza.\n",
    "\n",
    "(Assumiamo per ipotesi che siano finiti e disgiunti l'insieme dei punti critici di $f_1$ e l'insieme dei punti critici di $f_2$)."
   ]
  },
  {
   "cell_type": "code",
   "execution_count": 23,
   "metadata": {},
   "outputs": [],
   "source": [
    "def Pareto(tol):\n",
    "    #tol=0.0001   #per ora uso una sola toleranza, come se fosse il mio zero\n",
    "    ppc=[]       #lista dei punti Pareto Critici\n",
    "    for i in range (0,l,1):\n",
    "        if gr2(x[i])[0]==0 and gr2(x[i])[1]==0:\n",
    "            if gr1(x[i])[0]==0 and gr1(x[i])[1]==0:\n",
    "                print('La funzione non soddisfa le condizioni iniziali') #la nostra non soddisfa yeee\n",
    "            else:\n",
    "                ppc.append(x[i])\n",
    "        if gr2(x[i])[0]==0 and gr2(x[i])[1]!=0:\n",
    "            if gr1(x[i])[0]<=tol:\n",
    "                ppc.append(x[i])\n",
    "        if gr2(x[i])[1]==0 and gr2(x[i])[0]!=0:\n",
    "            if gr1(x[i])[1]<=tol:\n",
    "                ppc.append(x[i])\n",
    "        if gr2(x[i])[0]!=0 and gr2(x[i])[1]!=0:\n",
    "            if abs(gr1(x[i])[0]/gr2(x[i])[0]-gr1(x[i])[1]/gr2(x[i])[1])<=tol and (gr1(x[i])[0]/gr2(x[i])[0]<=tol or gr1(x[i])[1]/gr2(x[i])[1]<=tol):\n",
    "                ppc.append(x[i])\n",
    "    return ppc"
   ]
  },
  {
   "cell_type": "code",
   "execution_count": 26,
   "metadata": {},
   "outputs": [
    {
     "name": "stdout",
     "output_type": "stream",
     "text": [
      "La funzione non soddisfa le condizioni iniziali\n",
      "La funzione non soddisfa le condizioni iniziali\n",
      "La funzione non soddisfa le condizioni iniziali\n",
      "La funzione non soddisfa le condizioni iniziali\n",
      "La funzione non soddisfa le condizioni iniziali\n",
      "La funzione non soddisfa le condizioni iniziali\n",
      "[array([0., 0.]), array([0.        , 1.57079633]), array([0.        , 3.14159265]), array([0.        , 6.28318531]), array([0.06283185, 0.        ]), array([0.06283185, 1.57079633]), array([0.12566371, 0.        ]), array([0.12566371, 1.57079633]), array([0.18849556, 0.        ]), array([0.18849556, 1.57079633]), array([0.25132741, 0.        ]), array([0.25132741, 1.57079633]), array([0.31415927, 0.        ]), array([0.31415927, 1.57079633]), array([0.37699112, 0.        ]), array([0.37699112, 1.57079633]), array([0.43982297, 0.        ]), array([0.43982297, 1.57079633]), array([0.50265482, 0.        ]), array([0.50265482, 1.57079633]), array([0.56548668, 0.        ]), array([0.56548668, 1.57079633]), array([0.56548668, 6.28318531]), array([0.62831853, 0.        ]), array([0.62831853, 1.57079633]), array([0.62831853, 6.28318531]), array([0.69115038, 0.        ]), array([0.69115038, 1.57079633]), array([0.69115038, 3.14159265]), array([0.69115038, 6.28318531]), array([0.75398224, 0.        ]), array([0.75398224, 1.57079633]), array([0.75398224, 3.14159265]), array([0.75398224, 6.28318531]), array([0.81681409, 0.        ]), array([0.81681409, 1.57079633]), array([0.81681409, 3.14159265]), array([0.81681409, 6.28318531]), array([0.87964594, 0.        ]), array([0.87964594, 1.57079633]), array([0.87964594, 3.14159265]), array([0.87964594, 6.28318531]), array([0.9424778, 0.       ]), array([0.9424778 , 1.57079633]), array([0.9424778 , 3.14159265]), array([0.9424778 , 6.28318531]), array([1.00530965, 0.        ]), array([1.00530965, 1.57079633]), array([1.00530965, 3.14159265]), array([1.00530965, 6.28318531]), array([1.0681415, 0.       ]), array([1.0681415 , 1.57079633]), array([1.0681415 , 3.14159265]), array([1.0681415 , 6.28318531]), array([1.13097336, 0.        ]), array([1.13097336, 1.57079633]), array([1.13097336, 3.14159265]), array([1.13097336, 6.28318531]), array([1.19380521, 0.        ]), array([1.19380521, 1.57079633]), array([1.19380521, 3.14159265]), array([1.19380521, 6.28318531]), array([1.25663706, 0.        ]), array([1.25663706, 1.57079633]), array([1.25663706, 3.14159265]), array([1.25663706, 6.28318531]), array([1.31946891, 0.        ]), array([1.31946891, 1.57079633]), array([1.31946891, 3.14159265]), array([1.31946891, 6.28318531]), array([1.38230077, 0.        ]), array([1.38230077, 1.57079633]), array([1.38230077, 3.14159265]), array([1.38230077, 6.28318531]), array([1.44513262, 0.        ]), array([1.44513262, 1.57079633]), array([1.44513262, 3.14159265]), array([1.44513262, 6.28318531]), array([1.50796447, 0.        ]), array([1.50796447, 1.57079633]), array([1.50796447, 3.14159265]), array([1.50796447, 6.28318531]), array([1.57079633, 0.06283185]), array([1.57079633, 0.12566371]), array([1.57079633, 0.18849556]), array([1.57079633, 0.25132741]), array([1.57079633, 0.31415927]), array([1.57079633, 0.37699112]), array([1.57079633, 0.43982297]), array([1.57079633, 0.50265482]), array([1.57079633, 0.56548668]), array([1.57079633, 0.62831853]), array([1.57079633, 0.69115038]), array([1.57079633, 0.75398224]), array([1.57079633, 0.81681409]), array([1.57079633, 0.87964594]), array([1.57079633, 0.9424778 ]), array([1.57079633, 1.00530965]), array([1.57079633, 1.0681415 ]), array([1.57079633, 1.13097336]), array([1.57079633, 1.19380521]), array([1.57079633, 1.25663706]), array([1.57079633, 1.31946891]), array([1.57079633, 1.38230077]), array([1.57079633, 1.44513262]), array([1.57079633, 1.50796447]), array([1.57079633, 1.57079633]), array([1.57079633, 1.63362818]), array([1.57079633, 1.69646003]), array([1.57079633, 1.75929189]), array([1.57079633, 1.82212374]), array([1.57079633, 1.88495559]), array([1.57079633, 1.94778745]), array([1.57079633, 2.0106193 ]), array([1.57079633, 2.07345115]), array([1.57079633, 2.136283  ]), array([1.57079633, 2.19911486]), array([1.57079633, 2.26194671]), array([1.57079633, 2.32477856]), array([1.57079633, 2.38761042]), array([1.57079633, 2.45044227]), array([1.57079633, 2.51327412]), array([1.57079633, 2.57610598]), array([1.57079633, 2.63893783]), array([1.57079633, 2.70176968]), array([1.57079633, 2.76460154]), array([1.57079633, 2.82743339]), array([1.57079633, 2.89026524]), array([1.57079633, 2.95309709]), array([1.57079633, 3.01592895]), array([1.57079633, 3.0787608 ]), array([1.57079633, 3.20442451]), array([1.57079633, 3.26725636]), array([1.57079633, 3.33008821]), array([1.57079633, 3.39292007]), array([1.57079633, 3.45575192]), array([1.57079633, 3.51858377]), array([1.57079633, 3.58141563]), array([1.57079633, 3.64424748]), array([1.57079633, 3.70707933]), array([1.57079633, 3.76991118]), array([1.57079633, 3.83274304]), array([1.57079633, 3.89557489]), array([1.57079633, 3.95840674]), array([1.57079633, 4.0212386 ]), array([1.57079633, 4.08407045]), array([1.57079633, 4.1469023 ]), array([1.57079633, 4.20973416]), array([1.57079633, 4.27256601]), array([1.57079633, 4.33539786]), array([1.57079633, 4.39822972]), array([1.57079633, 4.46106157]), array([1.57079633, 4.52389342]), array([1.57079633, 4.58672527]), array([1.57079633, 4.64955713]), array([1.57079633, 4.71238898]), array([1.57079633, 4.77522083]), array([1.57079633, 4.83805269]), array([1.57079633, 4.90088454]), array([1.57079633, 4.96371639]), array([1.57079633, 5.02654825]), array([1.57079633, 5.0893801 ]), array([1.57079633, 5.15221195]), array([1.57079633, 5.2150438 ]), array([1.57079633, 5.27787566]), array([1.57079633, 5.34070751]), array([1.57079633, 5.40353936]), array([1.57079633, 5.46637122]), array([1.57079633, 5.52920307]), array([1.57079633, 5.59203492]), array([1.57079633, 5.65486678]), array([1.57079633, 5.71769863]), array([1.57079633, 5.78053048]), array([1.57079633, 5.84336234]), array([1.57079633, 5.90619419]), array([1.57079633, 5.96902604]), array([1.57079633, 6.03185789]), array([1.57079633, 6.09468975]), array([1.57079633, 6.1575216 ]), array([1.57079633, 6.22035345]), array([1.63362818, 0.        ]), array([1.63362818, 1.57079633]), array([1.63362818, 3.14159265]), array([1.63362818, 6.28318531]), array([1.69646003, 0.        ]), array([1.69646003, 1.57079633]), array([1.69646003, 3.14159265]), array([1.75929189, 0.        ]), array([1.75929189, 1.57079633]), array([1.75929189, 3.14159265]), array([1.75929189, 6.28318531]), array([1.82212374, 0.        ]), array([1.82212374, 1.57079633]), array([1.82212374, 3.14159265]), array([1.82212374, 6.28318531]), array([1.88495559, 0.        ]), array([1.88495559, 1.57079633]), array([1.88495559, 3.14159265]), array([1.88495559, 6.28318531]), array([1.94778745, 0.        ]), array([1.94778745, 1.57079633]), array([1.94778745, 3.14159265]), array([1.94778745, 6.28318531]), array([2.0106193, 0.       ]), array([2.0106193 , 1.57079633]), array([2.0106193 , 3.14159265]), array([2.0106193 , 6.28318531]), array([2.07345115, 0.        ]), array([2.07345115, 1.57079633]), array([2.07345115, 3.14159265]), array([2.07345115, 6.28318531]), array([2.136283, 0.      ]), array([2.136283  , 1.57079633]), array([2.136283  , 3.14159265]), array([2.136283  , 6.28318531]), array([2.19911486, 0.        ]), array([2.19911486, 1.57079633]), array([2.19911486, 3.14159265]), array([2.19911486, 6.28318531]), array([2.26194671, 0.        ]), array([2.26194671, 1.57079633]), array([2.26194671, 3.14159265]), array([2.26194671, 6.28318531]), array([2.32477856, 0.        ]), array([2.32477856, 1.57079633]), array([2.32477856, 3.14159265]), array([2.32477856, 6.28318531]), array([2.38761042, 0.        ]), array([2.38761042, 1.57079633]), array([2.38761042, 3.14159265]), array([2.38761042, 6.28318531]), array([2.45044227, 0.        ]), array([2.45044227, 1.57079633]), array([2.45044227, 3.14159265]), array([2.45044227, 6.28318531]), array([2.51327412, 0.        ]), array([2.51327412, 1.57079633]), array([2.51327412, 6.28318531]), array([2.57610598, 0.        ]), array([2.57610598, 1.57079633]), array([2.57610598, 6.28318531]), array([2.63893783, 0.        ]), array([2.63893783, 1.57079633]), array([2.70176968, 0.        ]), array([2.70176968, 1.57079633]), array([2.76460154, 0.        ]), array([2.76460154, 1.57079633]), array([2.82743339, 0.        ]), array([2.82743339, 1.57079633]), array([2.89026524, 0.        ]), array([2.89026524, 1.57079633]), array([2.95309709, 0.        ]), array([2.95309709, 1.57079633]), array([3.01592895, 0.        ]), array([3.01592895, 1.57079633]), array([3.0787608, 0.       ]), array([3.0787608 , 1.57079633]), array([3.14159265, 0.        ]), array([3.14159265, 1.57079633]), array([3.14159265, 3.14159265]), array([3.14159265, 6.28318531]), array([3.20442451, 0.        ]), array([3.20442451, 1.57079633]), array([3.26725636, 0.        ]), array([3.26725636, 1.57079633]), array([3.33008821, 0.        ]), array([3.33008821, 1.57079633]), array([3.39292007, 0.        ]), array([3.39292007, 1.57079633]), array([3.45575192, 0.        ]), array([3.45575192, 1.57079633]), array([3.51858377, 0.        ]), array([3.51858377, 1.57079633]), array([3.58141563, 0.        ]), array([3.58141563, 1.57079633]), array([3.64424748, 0.        ]), array([3.64424748, 1.57079633]), array([3.70707933, 0.        ]), array([3.70707933, 1.57079633]), array([3.70707933, 6.28318531]), array([3.76991118, 0.        ]), array([3.76991118, 1.57079633]), array([3.76991118, 6.28318531]), array([3.83274304, 0.        ]), array([3.83274304, 1.57079633]), array([3.83274304, 3.14159265]), array([3.83274304, 6.28318531]), array([3.89557489, 0.        ]), array([3.89557489, 1.57079633]), array([3.89557489, 3.14159265]), array([3.89557489, 6.28318531]), array([3.95840674, 0.        ]), array([3.95840674, 1.57079633]), array([3.95840674, 3.14159265]), array([3.95840674, 6.28318531]), array([4.0212386, 0.       ]), array([4.0212386 , 1.57079633]), array([4.0212386 , 3.14159265]), array([4.0212386 , 6.28318531]), array([4.08407045, 0.        ]), array([4.08407045, 1.57079633]), array([4.08407045, 3.14159265]), array([4.08407045, 6.28318531]), array([4.1469023, 0.       ]), array([4.1469023 , 1.57079633]), array([4.1469023 , 3.14159265]), array([4.1469023 , 6.28318531]), array([4.20973416, 0.        ]), array([4.20973416, 1.57079633]), array([4.20973416, 3.14159265]), array([4.20973416, 6.28318531]), array([4.27256601, 0.        ]), array([4.27256601, 1.57079633]), array([4.27256601, 3.14159265]), array([4.27256601, 6.28318531]), array([4.33539786, 0.        ]), array([4.33539786, 1.57079633]), array([4.33539786, 3.14159265]), array([4.33539786, 6.28318531]), array([4.39822972, 0.        ]), array([4.39822972, 1.57079633]), array([4.39822972, 3.14159265]), array([4.39822972, 6.28318531]), array([4.46106157, 0.        ]), array([4.46106157, 1.57079633]), array([4.46106157, 3.14159265]), array([4.46106157, 6.28318531]), array([4.52389342, 0.        ]), array([4.52389342, 1.57079633]), array([4.52389342, 3.14159265]), array([4.52389342, 6.28318531]), array([4.58672527, 0.        ]), array([4.58672527, 1.57079633]), array([4.58672527, 3.14159265]), array([4.58672527, 6.28318531]), array([4.64955713, 0.        ]), array([4.64955713, 1.57079633]), array([4.64955713, 3.14159265]), array([4.64955713, 6.28318531]), array([4.71238898, 0.06283185]), array([4.71238898, 0.12566371]), array([4.71238898, 0.18849556]), array([4.71238898, 0.25132741]), array([4.71238898, 0.31415927]), array([4.71238898, 0.37699112]), array([4.71238898, 0.43982297]), array([4.71238898, 0.50265482]), array([4.71238898, 0.56548668]), array([4.71238898, 0.62831853]), array([4.71238898, 0.69115038]), array([4.71238898, 0.75398224]), array([4.71238898, 0.81681409]), array([4.71238898, 0.87964594]), array([4.71238898, 0.9424778 ]), array([4.71238898, 1.00530965]), array([4.71238898, 1.0681415 ]), array([4.71238898, 1.13097336]), array([4.71238898, 1.19380521]), array([4.71238898, 1.25663706]), array([4.71238898, 1.31946891]), array([4.71238898, 1.38230077]), array([4.71238898, 1.44513262]), array([4.71238898, 1.50796447]), array([4.71238898, 1.57079633]), array([4.71238898, 1.63362818]), array([4.71238898, 1.69646003]), array([4.71238898, 1.75929189]), array([4.71238898, 1.82212374]), array([4.71238898, 1.88495559]), array([4.71238898, 1.94778745]), array([4.71238898, 2.0106193 ]), array([4.71238898, 2.07345115]), array([4.71238898, 2.136283  ]), array([4.71238898, 2.19911486]), array([4.71238898, 2.26194671]), array([4.71238898, 2.32477856]), array([4.71238898, 2.38761042]), array([4.71238898, 2.45044227]), array([4.71238898, 2.51327412]), array([4.71238898, 2.57610598]), array([4.71238898, 2.63893783]), array([4.71238898, 2.70176968]), array([4.71238898, 2.76460154]), array([4.71238898, 2.82743339]), array([4.71238898, 2.89026524]), array([4.71238898, 2.95309709]), array([4.71238898, 3.01592895]), array([4.71238898, 3.0787608 ]), array([4.71238898, 3.20442451]), array([4.71238898, 3.26725636]), array([4.71238898, 3.33008821]), array([4.71238898, 3.39292007]), array([4.71238898, 3.45575192]), array([4.71238898, 3.51858377]), array([4.71238898, 3.58141563]), array([4.71238898, 3.64424748]), array([4.71238898, 3.70707933]), array([4.71238898, 3.76991118]), array([4.71238898, 3.83274304]), array([4.71238898, 3.89557489]), array([4.71238898, 3.95840674]), array([4.71238898, 4.0212386 ]), array([4.71238898, 4.08407045]), array([4.71238898, 4.1469023 ]), array([4.71238898, 4.20973416]), array([4.71238898, 4.27256601]), array([4.71238898, 4.33539786]), array([4.71238898, 4.39822972]), array([4.71238898, 4.46106157]), array([4.71238898, 4.52389342]), array([4.71238898, 4.58672527]), array([4.71238898, 4.64955713]), array([4.71238898, 4.71238898]), array([4.71238898, 4.77522083]), array([4.71238898, 4.83805269]), array([4.71238898, 4.90088454]), array([4.71238898, 4.96371639]), array([4.71238898, 5.02654825]), array([4.71238898, 5.0893801 ]), array([4.71238898, 5.15221195]), array([4.71238898, 5.2150438 ]), array([4.71238898, 5.27787566]), array([4.71238898, 5.34070751]), array([4.71238898, 5.40353936]), array([4.71238898, 5.46637122]), array([4.71238898, 5.52920307]), array([4.71238898, 5.59203492]), array([4.71238898, 5.65486678]), array([4.71238898, 5.71769863]), array([4.71238898, 5.78053048]), array([4.71238898, 5.84336234]), array([4.71238898, 5.90619419]), array([4.71238898, 5.96902604]), array([4.71238898, 6.03185789]), array([4.71238898, 6.09468975]), array([4.71238898, 6.1575216 ]), array([4.71238898, 6.22035345]), array([4.77522083, 0.        ]), array([4.77522083, 1.57079633]), array([4.77522083, 3.14159265]), array([4.77522083, 6.28318531]), array([4.83805269, 0.        ]), array([4.83805269, 1.57079633]), array([4.83805269, 3.14159265]), array([4.83805269, 6.28318531]), array([4.90088454, 0.        ]), array([4.90088454, 1.57079633]), array([4.90088454, 3.14159265]), array([4.90088454, 6.28318531]), array([4.96371639, 0.        ]), array([4.96371639, 1.57079633]), array([4.96371639, 3.14159265]), array([4.96371639, 6.28318531]), array([5.02654825, 0.        ]), array([5.02654825, 1.57079633]), array([5.02654825, 3.14159265]), array([5.02654825, 6.28318531]), array([5.0893801, 0.       ]), array([5.0893801 , 1.57079633]), array([5.0893801 , 3.14159265]), array([5.0893801 , 6.28318531]), array([5.15221195, 0.        ]), array([5.15221195, 1.57079633]), array([5.15221195, 3.14159265]), array([5.15221195, 6.28318531]), array([5.2150438, 0.       ]), array([5.2150438 , 1.57079633]), array([5.2150438 , 3.14159265]), array([5.2150438 , 6.28318531]), array([5.27787566, 0.        ]), array([5.27787566, 1.57079633]), array([5.27787566, 3.14159265]), array([5.27787566, 6.28318531]), array([5.34070751, 0.        ]), array([5.34070751, 1.57079633]), array([5.34070751, 3.14159265]), array([5.34070751, 6.28318531]), array([5.40353936, 0.        ]), array([5.40353936, 1.57079633]), array([5.40353936, 3.14159265]), array([5.40353936, 6.28318531]), array([5.46637122, 0.        ]), array([5.46637122, 1.57079633]), array([5.46637122, 3.14159265]), array([5.46637122, 6.28318531]), array([5.52920307, 0.        ]), array([5.52920307, 1.57079633]), array([5.52920307, 3.14159265]), array([5.52920307, 6.28318531]), array([5.59203492, 0.        ]), array([5.59203492, 1.57079633]), array([5.59203492, 3.14159265]), array([5.59203492, 6.28318531]), array([5.65486678, 0.        ]), array([5.65486678, 1.57079633]), array([5.65486678, 6.28318531]), array([5.71769863, 0.        ]), array([5.71769863, 1.57079633]), array([5.71769863, 6.28318531]), array([5.78053048, 0.        ]), array([5.78053048, 1.57079633]), array([5.84336234, 0.        ]), array([5.84336234, 1.57079633]), array([5.90619419, 0.        ]), array([5.90619419, 1.57079633]), array([5.96902604, 0.        ]), array([5.96902604, 1.57079633]), array([6.03185789, 0.        ]), array([6.03185789, 1.57079633]), array([6.09468975, 0.        ]), array([6.09468975, 1.57079633]), array([6.1575216, 0.       ]), array([6.1575216 , 1.57079633]), array([6.22035345, 0.        ]), array([6.22035345, 1.57079633]), array([6.28318531, 0.        ]), array([6.28318531, 1.57079633]), array([6.28318531, 3.14159265]), array([6.28318531, 6.28318531])]\n"
     ]
    }
   ],
   "source": [
    "print(Pareto(0))"
   ]
  },
  {
   "cell_type": "markdown",
   "metadata": {},
   "source": [
    "Adesso faccio un po' di plot cambiando di volta in volta la tolleranza.\n",
    "\n",
    "Osservo che: ..."
   ]
  },
  {
   "cell_type": "code",
   "execution_count": 24,
   "metadata": {},
   "outputs": [
    {
     "name": "stdout",
     "output_type": "stream",
     "text": [
      "La funzione non soddisfa le condizioni iniziali\n",
      "La funzione non soddisfa le condizioni iniziali\n",
      "La funzione non soddisfa le condizioni iniziali\n",
      "La funzione non soddisfa le condizioni iniziali\n",
      "La funzione non soddisfa le condizioni iniziali\n",
      "La funzione non soddisfa le condizioni iniziali\n",
      "La funzione non soddisfa le condizioni iniziali\n",
      "La funzione non soddisfa le condizioni iniziali\n",
      "La funzione non soddisfa le condizioni iniziali\n",
      "La funzione non soddisfa le condizioni iniziali\n",
      "La funzione non soddisfa le condizioni iniziali\n",
      "La funzione non soddisfa le condizioni iniziali\n"
     ]
    },
    {
     "data": {
      "text/plain": [
       "<matplotlib.collections.PathCollection at 0x17f676fb310>"
      ]
     },
     "execution_count": 24,
     "metadata": {},
     "output_type": "execute_result"
    },
    {
     "data": {
      "image/png": "[encoded data removed]",
      "text/plain": [
       "<Figure size 640x480 with 1 Axes>"
      ]
     },
     "metadata": {},
     "output_type": "display_data"
    }
   ],
   "source": [
    "plt.scatter(f_1(Pareto(0)),f_2(Pareto(0)))"
   ]
  },
  {
   "cell_type": "code",
   "execution_count": 25,
   "metadata": {},
   "outputs": [
    {
     "name": "stdout",
     "output_type": "stream",
     "text": [
      "La funzione non soddisfa le condizioni iniziali\n",
      "La funzione non soddisfa le condizioni iniziali\n",
      "La funzione non soddisfa le condizioni iniziali\n",
      "La funzione non soddisfa le condizioni iniziali\n",
      "La funzione non soddisfa le condizioni iniziali\n",
      "La funzione non soddisfa le condizioni iniziali\n",
      "La funzione non soddisfa le condizioni iniziali\n",
      "La funzione non soddisfa le condizioni iniziali\n",
      "La funzione non soddisfa le condizioni iniziali\n",
      "La funzione non soddisfa le condizioni iniziali\n",
      "La funzione non soddisfa le condizioni iniziali\n",
      "La funzione non soddisfa le condizioni iniziali\n"
     ]
    },
    {
     "data": {
      "text/plain": [
       "<matplotlib.collections.PathCollection at 0x17f6769cd90>"
      ]
     },
     "execution_count": 25,
     "metadata": {},
     "output_type": "execute_result"
    },
    {
     "data": {
      "image/png": "[encoded data removed]",
      "text/plain": [
       "<Figure size 640x480 with 1 Axes>"
      ]
     },
     "metadata": {},
     "output_type": "display_data"
    }
   ],
   "source": [
    "plt.scatter(f_1(Pareto(0.0001)),f_2(Pareto(0.0001)))"
   ]
  }
 ],
 "metadata": {
  "kernelspec": {
   "display_name": "venv_tirocinio",
   "language": "python",
   "name": "python3"
  },
  "language_info": {
   "codemirror_mode": {
    "name": "ipython",
    "version": 3
   },
   "file_extension": ".py",
   "mimetype": "text/x-python",
   "name": "python",
   "nbconvert_exporter": "python",
   "pygments_lexer": "ipython3",
   "version": "3.8.10"
  },
  "orig_nbformat": 4,
  "vscode": {
   "interpreter": {
    "hash": "931821c3759b5b4e2325920ad0181fdfb4f884b26501235884153f0810743630"
   }
  }
 },
 "nbformat": 4,
 "nbformat_minor": 2
}
