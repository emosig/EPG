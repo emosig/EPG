{
 "cells": [
  {
   "cell_type": "markdown",
   "metadata": {},
   "source": [
    "# Calcolo delle extended pareto grid\n",
    "Lavoriamo sul toro piatto $T=[0,2\\pi]\\times[0,2\\pi]/(x,0)=(x,2\\pi),(0,y)=(2\\pi,y)$, pertanto lavoriamo con funzioni $\\mathbb{R}^2\\rightarrow \\mathbb{R}^2$ periodiche in entrambe le variabili.\n",
    "\n",
    "Per il momento abbiamo fatto degli esempi con funzioni polinomiali in seno e coseno (per esempio del tipo $(f_1(x,y),f_2(x,y))=(a\\ cos(x)^2+b\\ cos(y)\\ ,\\ c\\ sin(x)^3+d\\ sin(y)^2)$)."
   ]
  },
  {
   "cell_type": "code",
   "execution_count": 1,
   "metadata": {},
   "outputs": [],
   "source": [
    "import matplotlib.pyplot as plt\n",
    "import numpy as np\n",
    "import scipy as scipy\n",
    "from scipy import optimize\n",
    "import numdifftools as nd"
   ]
  },
  {
   "cell_type": "markdown",
   "metadata": {},
   "source": [
    "### Setting:\n",
    "##### Costruiamo una griglia di punti sul toro, tutte le funzioni veranno valutate su questi. Questa può essere raffinata a piacimento e al momento contiene 10.000 punti.\n",
    "\n",
    "##### Chiaramente alcuni punti importanti potrebbero essere esclusi, ma ammettendo una certa tolleranza siamo riusciti ad ottenere un risultato abbastanza buono.\n",
    "\n",
    "Un diverso approccio, quello che abbiamo provato all'inizio, potrebbe essere quello di non creare la griglia e trattare le nostre funzioni con metodi della libreria numdifftools (per esempio per trovare gli zeri dei gradienti); il problema è che questi metodi sono molto costosi e non si adattano nemmeno troppo bene."
   ]
  },
  {
   "cell_type": "code",
   "execution_count": 2,
   "metadata": {},
   "outputs": [],
   "source": [
    "#griglia sul toro su cui facciamo i conti\n",
    "\n",
    "eps=2*np.pi/100\n",
    "x=[]\n",
    "for i in np.arange(0,2*np.pi+eps,eps):\n",
    "    for j in np.arange(0,2*np.pi+eps,eps):\n",
    "        x.append([i,j])\n",
    "x=np.array(x)\n",
    "l=len(x)"
   ]
  },
  {
   "cell_type": "markdown",
   "metadata": {},
   "source": [
    "### Calcolo punti Pareto Critici\n",
    "Un punto $(x,y)\\in T$ è detto Pareto Critico se $\\exists \\lambda\\le 0$ t.c. $\\nabla f_1(x,y)=\\lambda\\nabla f_2(x,y)$.\n",
    "\n",
    "Questa condizione equivale a richiedere che:\n",
    "\n",
    "se $\\nabla f_1(x,y)=(a_0,a_1),\\ \\nabla f_2(x,y)=(b_0,b_1)$, allora $a_0=\\lambda b_0$ e $a_1=\\lambda b_1$, quindi $\\frac{a_0}{b_0}=\\lambda=\\frac{a_1}{b_1}$ dove queste sono ben definite.\n",
    "\n",
    "Pertanto valuto questi rapporti, ammettendo una certa tolleranza, e tratto da parte i casi in cui questo non è ben definito.\n",
    "\n",
    "Dall'articolo: assumiamo per ipotesi che siano finiti e disgiunti l'insieme dei punti critici di $f_1$ e l'insieme dei punti critici di $f_2$, ma in realtà nei due esempi sotto la condizione non è soddisfatta."
   ]
  },
  {
   "cell_type": "markdown",
   "metadata": {},
   "source": [
    "Note: al momento per calcolare i gradienti utilizziamo un metodo della libreria numdifftools ([documentazione](https://numpy.org/doc/stable/reference/generated/numpy.gradient.html#numpy-gradient)); Eloy si sta occupando di creare una classe .py specifica che tratti in modo efficiente le funzioni polinomiali che stiamo considerando. In linea di principio, al momento, il nostro programma può trattare qualsiasi tipo di funzione sul toro."
   ]
  },
  {
   "cell_type": "code",
   "execution_count": 3,
   "metadata": {},
   "outputs": [],
   "source": [
    "def Pareto(f_1,f_2,tol):\n",
    "    #per ora uso una sola toleranza, come se fosse il mio zero\n",
    "    cr1=[]  #lista dei punti critici di f_1\n",
    "    cr2=[]  #lista dei punti critici di f_2\n",
    "    ppc=[]  #lista dei punti Pareto Critici\n",
    "    for i in range (0,l,1):\n",
    "        a=nd.Gradient(f_1)(x[i])\n",
    "        b=nd.Gradient(f_2)(x[i])\n",
    "        if a[0]==0 and a[1]==0:       #se ho un punto critico per f_1 la condizione è verificata per qualunque valore del gradiente di f_2\n",
    "            cr1.append(x[i])\n",
    "            ppc.append(x[i])\n",
    "        if b[0]==0 and b[1]==0:     #se ho un punto critico per f_2 la condizione è verificata per qualunque valore del gradiente di f_1\n",
    "            cr2.append(x[i])\n",
    "            ppc.append(x[i])\n",
    "        if a[0]==0 and a[1]!=0:     \n",
    "            if abs(b[0])<=tol and b[1]/a[1]<=tol:\n",
    "                ppc.append(x[i])\n",
    "        if a[1]==0 and a[0]!=0:\n",
    "            if abs(b[1])<=tol and b[0]/a[0]<=tol:\n",
    "                ppc.append(x[i])\n",
    "        if b[0]==0 and b[1]!=0:\n",
    "            if abs(a[0])<=tol and a[1]/b[1]<=tol:\n",
    "                ppc.append(x[i])\n",
    "        if b[1]==0 and b[0]!=0:\n",
    "            if abs(a[1])<=tol and a[0]/b[0]<=tol:\n",
    "                ppc.append(x[i])\n",
    "        if b[0]!=0 and b[1]!=0:\n",
    "             if abs(a[0]/b[0]-a[1]/b[1])<=tol and (a[0]/b[0]<=tol or a[1]/b[1]<=tol):\n",
    "                 ppc.append(x[i])\n",
    "    ppc=np.array(ppc)\n",
    "    cr1=np.array(cr1)\n",
    "    cr2=np.array(cr2)\n",
    "    return ppc,cr1,cr2"
   ]
  },
  {
   "cell_type": "code",
   "execution_count": 5,
   "metadata": {},
   "outputs": [],
   "source": [
    "#prova di funzione a caso:\n",
    "\n",
    "def e1(x):\n",
    "    return np.exp(np.cos(x[0])**2)\n",
    "def e2(x):\n",
    "    return np.sin(x[1])\n",
    "\n",
    "pareto0,cr1,cr2=Pareto(e1,e2,0)\n",
    "pareto05,cr1,cr2=Pareto(e1,e2,0.5)"
   ]
  },
  {
   "cell_type": "code",
   "execution_count": 8,
   "metadata": {},
   "outputs": [
    {
     "data": {
      "text/plain": [
       "<matplotlib.collections.PathCollection at 0x230c8000580>"
      ]
     },
     "execution_count": 8,
     "metadata": {},
     "output_type": "execute_result"
    },
    {
     "data": {
      "image/png": "[encoded data removed]",
      "text/plain": [
       "<Figure size 800x400 with 2 Axes>"
      ]
     },
     "metadata": {},
     "output_type": "display_data"
    }
   ],
   "source": [
    "fig,axes=plt.subplots(1,2)\n",
    "fig.set_size_inches(8,4)\n",
    "axes[0].scatter([e1(p) for p in pareto0],[e2(p) for p in pareto0])\n",
    "axes[1].scatter([e1(p) for p in pareto05],[e2(p) for p in pareto05])"
   ]
  },
  {
   "cell_type": "markdown",
   "metadata": {},
   "source": [
    "# Primo Esempio:\n",
    "\n",
    "$f=(f_1,f_2)$ con $f_1(x,y)=cos\\ x\\ \\ \\ ,\\ f_2(x,y)=cos\\ y$\n",
    "\n",
    "$\\nabla f_1(x,y)=(sen\\ x,0)\\ ,\\ \\nabla f_2(x,y)=(0,sen\\ y)$\n",
    "\n",
    "###### Nota: in questo esempio i punti critici sono infiniti"
   ]
  },
  {
   "cell_type": "code",
   "execution_count": null,
   "metadata": {},
   "outputs": [],
   "source": [
    "def f_1(x):\n",
    "    return np.cos(x[0])\n",
    "\n",
    "def f_2(x):\n",
    "    return np.cos(x[1])"
   ]
  },
  {
   "cell_type": "code",
   "execution_count": null,
   "metadata": {},
   "outputs": [],
   "source": [
    "# applichiamo la funzione creata sopra per ottenere i punti critici e i punti pareto critici\n",
    "\n",
    "Pareto0,cr1,cr2=Pareto(f_1,f_2,0)"
   ]
  },
  {
   "cell_type": "markdown",
   "metadata": {},
   "source": [
    "### Calcolo i punti critici:\n",
    "Questa parte non è necessaria, ma l'ho inserita per due motivi:\n",
    "\n",
    "1. facciamo un primo controllo per vedere se ha senso quello che stiamo facento\n",
    "2. sappiamo che i valori critici sono gli estremi degli archi della EPG, quindi faccio un primo plot per avere un'idea di come è disposta nel piano l'EPG"
   ]
  },
  {
   "cell_type": "code",
   "execution_count": null,
   "metadata": {},
   "outputs": [],
   "source": [
    "plt.scatter([f_1(c) for c in cr1],[f_2(c) for c in cr1],color='red',s=0.3,label='f_1')\n",
    "plt.scatter([f_1(c) for c in cr2],[f_2(c) for c in cr2],color='blue',s=0.3,label='f_2')\n",
    "plt.legend(loc=\"center\")\n",
    "plt.title('Immagini dei Punti Critici - Tolleranza=0')"
   ]
  },
  {
   "cell_type": "markdown",
   "metadata": {},
   "source": [
    "### Cosa mi aspetto:\n",
    "Per la funzione $f(x,y)=(cos\\ x,cos\\ y)$, con tolleranza 0, come punti Pareto Critici dovrebbero venire fuori tutti e soli i punti critici di $f_1$ e $f_2$."
   ]
  },
  {
   "cell_type": "code",
   "execution_count": null,
   "metadata": {},
   "outputs": [],
   "source": [
    "plt.scatter([f_1(p) for p in Pareto0],[f_2(p) for p in Pareto0])\n",
    "plt.title('Extended Pareto Grid di f - Tolleranza=0')"
   ]
  },
  {
   "cell_type": "code",
   "execution_count": null,
   "metadata": {},
   "outputs": [],
   "source": [
    "# plt.scatter([p[0] for p in Pareto0],[p[1] for p in Pareto0])\n",
    "# plt.title('Punti Pareto Critici di f - Tolleranza=0')"
   ]
  },
  {
   "cell_type": "markdown",
   "metadata": {},
   "source": [
    "Questo esempio era estremamente banale, quindi il risultato coincide con le aspettative; non faccio altre prove di tolleranza"
   ]
  },
  {
   "cell_type": "markdown",
   "metadata": {},
   "source": [
    "# Secondo Esempio:\n",
    "$g_1(x,y)=2 cos^2\\ x+4\\ cos\\ y\\ \\ \\ ,\\ g_2(x,y)=sin^3\\ x+3\\ sin^2\\ y$\n",
    "\n",
    "$\\nabla g_1=(-4 cos\\ x\\ sen\\ x,\\ -4 sen\\ y),\\ \\nabla g_2=(3 cos\\ x\\ sen^2\\ x,6 cos\\ y \\ sen\\ y)$\n",
    "\n",
    "###### Nota: gli insiemi dei punti critici di $f_1$ e $f_2$ non sono disgiunti"
   ]
  },
  {
   "cell_type": "code",
   "execution_count": null,
   "metadata": {},
   "outputs": [],
   "source": [
    "def g_1(x):\n",
    "    return 2*np.cos(x[0])**2+4*np.cos(x[1])\n",
    "\n",
    "def g_2(x):\n",
    "    return 1*np.sin(x[0])**3+3*np.sin(x[1])**2"
   ]
  },
  {
   "cell_type": "code",
   "execution_count": null,
   "metadata": {},
   "outputs": [],
   "source": [
    "pareto0,gcr1,gcr2=Pareto(g_1,g_2,0)"
   ]
  },
  {
   "cell_type": "code",
   "execution_count": null,
   "metadata": {},
   "outputs": [],
   "source": [
    "plt.scatter([g_1(c) for c in gcr1],[g_2(c) for c in gcr1],color='red',s=0.8,label='g_1')\n",
    "plt.scatter([g_1(c) for c in gcr2],[g_2(c) for c in gcr2],color='blue',s=0.8,label='g_2')\n",
    "plt.legend(loc=\"upper left\")\n",
    "plt.title('Immagini dei Punti Critici - Tolleranza=0')"
   ]
  },
  {
   "cell_type": "code",
   "execution_count": null,
   "metadata": {},
   "outputs": [],
   "source": [
    "plt.scatter([g_1(p) for p in pareto0],[g_2(p) for p in pareto0],s=0.1)\n",
    "plt.title('Extended Pareto Grid di g - Tolleranza=0')\n",
    "\n",
    "#Testing:\n",
    "doc = open(\"list_crit_points.txt\",\"w\")\n",
    "doc.write(\"CR1:\" + '\\n')\n",
    "for crit in gcr1:\n",
    "    doc.write(str(g_1(crit)) + ' ' + str(g_2(crit))+'\\n')\n",
    "#doc.write(\"CR2:\" + '\\n')\n",
    "# for crit in cr2:\n",
    "#     doc.write(str(crit)+'\\n')\n",
    "doc.close"
   ]
  },
  {
   "cell_type": "markdown",
   "metadata": {},
   "source": [
    "Osservazione: facendo i conti a mano, mi risulta che la EPG di $g$ sia \n",
    "$\\{ (2 cos^2\\ x+2 sen\\ x,\\ 8 cos^3\\ y+3 sen^2\\ y)\\ |\\ x\\in [\\pi,2\\pi],\\ y\\in [\\frac{\\pi}{2},\\frac{3\\pi}{2}]\\}\\cup \\{4*cos\\}$. .........\n",
    "\n",
    "Pertanto non mi torna questa EPG: per esempio dovrebbe contenere il punto $(2,-8)$, conti fatti con geogebra."
   ]
  },
  {
   "cell_type": "code",
   "execution_count": null,
   "metadata": {},
   "outputs": [],
   "source": [
    "plt.scatter([p[0] for p in pareto0],[p[1] for p in pareto0],s=0.1)\n",
    "plt.title('Punti Pareto Critici di g - Tolleranza=0')"
   ]
  },
  {
   "cell_type": "markdown",
   "metadata": {},
   "source": [
    "\n",
    "Provo ad aumentare la tolleranza."
   ]
  },
  {
   "cell_type": "code",
   "execution_count": null,
   "metadata": {},
   "outputs": [],
   "source": [
    "pareto01,gcr1,gcr2=Pareto(g_1,g_2,1)"
   ]
  },
  {
   "cell_type": "code",
   "execution_count": null,
   "metadata": {},
   "outputs": [],
   "source": [
    "plt.scatter([g_1(c) for c in gcr1],[g_2(c) for c in gcr1],color='red',s=0.8,label='g_1')\n",
    "plt.scatter([g_1(c) for c in gcr2],[g_2(c) for c in gcr2],color='blue',s=0.8,label='g_2')\n",
    "plt.legend(loc=\"upper left\")\n",
    "plt.title('Punti Critici - Tolleranza=0.01')"
   ]
  },
  {
   "cell_type": "code",
   "execution_count": null,
   "metadata": {},
   "outputs": [],
   "source": [
    "plt.scatter([g_1(p) for p in pareto01],[g_2(p) for p in pareto01],s=0.1)\n",
    "plt.title('Extended Pareto Grid di g - Tolleranza=1')"
   ]
  },
  {
   "cell_type": "markdown",
   "metadata": {},
   "source": [
    "Osservazione: non cambia assolutamente niente :("
   ]
  },
  {
   "cell_type": "code",
   "execution_count": null,
   "metadata": {},
   "outputs": [],
   "source": [
    "plt.scatter([p[0] for p in pareto01],[p[1] for p in pareto01],s=0.1)\n",
    "plt.title('Punti Pareto Critici di g - Tolleranza=0.01')"
   ]
  },
  {
   "cell_type": "markdown",
   "metadata": {},
   "source": [
    "Adosso provo a plottare quanto emerge dai conti"
   ]
  },
  {
   "cell_type": "code",
   "execution_count": null,
   "metadata": {},
   "outputs": [],
   "source": [
    "def h1(x):\n",
    "    return 2*np.cos(x[0])**2+2*np.sin(x[0])\n",
    "def h2(x):\n",
    "    return 8*np.cos(x[1])**3+3*np.sin(x[1])**2\n",
    "def p1(x):\n",
    "    return 4*np.cos(x)\n",
    "def p2(x):\n",
    "    return 2*4*np.cos(x)\n",
    "def q1(x):\n",
    "    return 1+3*np.sin(x)**2\n",
    "def q2(x):\n",
    "    return 3*np.sin(x)**2-1\n",
    "def q3(x):\n",
    "    return 3*np.sin(x)**2\n",
    "def pp1(x):\n",
    "    return 4+2*np.cos(x)**2\n",
    "def pp2(x):\n",
    "    return 2*np.cos(x)**2-4\n",
    "def q(x):\n",
    "    return np.sin(x)**3\n",
    "\n",
    "x=np.linspace(0,np.pi,100)\n",
    "y=np.concatenate([np.linspace(0,np.pi/2,50),np.linspace(3*np.pi/2,2*np.pi,50)])\n",
    "punti=[]\n",
    "\n",
    "for i in range(0,len(x),1):\n",
    "    for j in range(0,len(x),1):\n",
    "        punti.append([x[i],y[j]])\n",
    "\n",
    "punti=np.array(punti)\n",
    "\n",
    "plt.figure(figsize=(5,5))\n",
    "plt.scatter([g_1(c) for c in gcr1],[g_2(c) for c in gcr1],s=0.8,color='red')\n",
    "plt.scatter([g_1(c) for c in gcr2],[g_2(c) for c in gcr2],s=0.8,color='red')\n",
    "plt.scatter([h1(i) for i in punti],[h2(i) for i in punti],s=0.8,color='blue')\n",
    "plt.scatter([p1(i) for i in x],[q1(i) for i in y],s=0.8,color='yellow')\n",
    "plt.scatter([p1(i) for i in x],[q2(i) for i in y],s=0.8,color='green')\n",
    "plt.scatter([p2(i) for i in x],[q3(i) for i in y],s=0.8,color='black')\n",
    "plt.scatter([pp1(i) for i in x],[q(i) for i in y],s=0.8,color='orange')\n",
    "plt.scatter([pp2(i) for i in x],[q(i) for i in y],s=0.8,color='grey')\n",
    "\n",
    "\n",
    "plt.title('Extended Pareto Grid - calcolata a mano')"
   ]
  }
 ],
 "metadata": {
  "kernelspec": {
   "display_name": "Python 3.8.10 ('venv_tirocinio': venv)",
   "language": "python",
   "name": "python3"
  },
  "language_info": {
   "codemirror_mode": {
    "name": "ipython",
    "version": 3
   },
   "file_extension": ".py",
   "mimetype": "text/x-python",
   "name": "python",
   "nbconvert_exporter": "python",
   "pygments_lexer": "ipython3",
   "version": "3.8.10"
  },
  "orig_nbformat": 4,
  "vscode": {
   "interpreter": {
    "hash": "7b6256116d384950dc7feec463ee3a1c573391c04afc811a4ce728809d91fe22"
   }
  }
 },
 "nbformat": 4,
 "nbformat_minor": 2
}
